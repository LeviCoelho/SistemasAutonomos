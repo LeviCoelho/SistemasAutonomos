{
 "cells": [
  {
   "cell_type": "code",
   "execution_count": 3,
   "metadata": {},
   "outputs": [],
   "source": [
    "import tensorflow as tf"
   ]
  },
  {
   "cell_type": "code",
   "execution_count": 6,
   "metadata": {},
   "outputs": [
    {
     "name": "stdout",
     "output_type": "stream",
     "text": [
      "tf.Tensor(b'Hello World!', shape=(), dtype=string)\n",
      "Hello World!\r\n"
     ]
    }
   ],
   "source": [
    "frase = tf.constant(\"Hello World!\")\n",
    "print(frase)\n",
    "tf.print(frase)\n",
    "\n",
    "#sess = tf.compat.v1.Session() #tf.Session() #Compatiblizar \n",
    "\n",
    "#with tf.Session() as sess:\n",
    "#    rodar = sess.run(frase)\n",
    "#print(rodar)\n",
    "\n",
    "#print(tf.Session.run(frase))"
   ]
  },
  {
   "cell_type": "code",
   "execution_count": null,
   "metadata": {},
   "outputs": [],
   "source": []
  },
  {
   "cell_type": "code",
   "execution_count": null,
   "metadata": {},
   "outputs": [],
   "source": []
  },
  {
   "cell_type": "code",
   "execution_count": null,
   "metadata": {},
   "outputs": [],
   "source": []
  }
 ],
 "metadata": {
  "kernelspec": {
   "display_name": "Python 3",
   "language": "python",
   "name": "python3"
  },
  "language_info": {
   "codemirror_mode": {
    "name": "ipython",
    "version": 3
   },
   "file_extension": ".py",
   "mimetype": "text/x-python",
   "name": "python",
   "nbconvert_exporter": "python",
   "pygments_lexer": "ipython3",
   "version": "3.7.7"
  }
 },
 "nbformat": 4,
 "nbformat_minor": 2
}
