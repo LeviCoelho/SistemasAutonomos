import tensorflow as tf

frase = tf.constant("Hello World!")
with tf.Session() as sess:
    rodar = sess.run(frase)
print(rodar)